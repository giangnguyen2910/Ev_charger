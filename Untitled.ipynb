{
 "cells": [
  {
   "cell_type": "code",
   "execution_count": 7,
   "id": "9648d806-28c4-4e17-a366-cb58092b74cf",
   "metadata": {},
   "outputs": [],
   "source": [
    "import requests\n",
    "import bs4, pprint"
   ]
  },
  {
   "cell_type": "code",
   "execution_count": 11,
   "id": "c5a2bbdc-51f0-4cb7-a289-9eda666120bb",
   "metadata": {},
   "outputs": [],
   "source": [
    "url = 'https://www.plugshare.com/au'\n",
    "res = requests.get(url)"
   ]
  },
  {
   "cell_type": "code",
   "execution_count": 12,
   "id": "90eaab11-1017-4091-98c1-ede23308a7dc",
   "metadata": {},
   "outputs": [],
   "source": [
    "soup = bs4.BeautifulSoup(res.text, 'html.parser')"
   ]
  },
  {
   "cell_type": "code",
   "execution_count": null,
   "id": "de264b96-4e96-402a-bc9f-244ca0f232a2",
   "metadata": {},
   "outputs": [],
   "source": []
  }
 ],
 "metadata": {
  "kernelspec": {
   "display_name": "Python 3",
   "language": "python",
   "name": "python3"
  },
  "language_info": {
   "codemirror_mode": {
    "name": "ipython",
    "version": 3
   },
   "file_extension": ".py",
   "mimetype": "text/x-python",
   "name": "python",
   "nbconvert_exporter": "python",
   "pygments_lexer": "ipython3",
   "version": "3.8.8"
  }
 },
 "nbformat": 4,
 "nbformat_minor": 5
}
